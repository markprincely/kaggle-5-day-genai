{
 "cells": [
  {
   "cell_type": "markdown",
   "metadata": {
    "id": "b6e13eef3f5d"
   },
   "source": [
    "##### Copyright 2025 Google LLC."
   ]
  },
  {
   "cell_type": "code",
   "execution_count": 2,
   "metadata": {
    "cellView": "form",
    "execution": {
     "iopub.execute_input": "2025-04-02T03:38:32.912633Z",
     "iopub.status.busy": "2025-04-02T03:38:32.912199Z",
     "iopub.status.idle": "2025-04-02T03:38:32.917592Z",
     "shell.execute_reply": "2025-04-02T03:38:32.916461Z",
     "shell.execute_reply.started": "2025-04-02T03:38:32.912595Z"
    },
    "id": "d6597b11df14",
    "jupyter": {
     "source_hidden": true
    },
    "trusted": true
   },
   "outputs": [],
   "source": [
    "# @title Licensed under the Apache License, Version 2.0 (the \"License\");\n",
    "# you may not use this file except in compliance with the License.\n",
    "# You may obtain a copy of the License at\n",
    "#\n",
    "# https://www.apache.org/licenses/LICENSE-2.0\n",
    "#\n",
    "# Unless required by applicable law or agreed to in writing, software\n",
    "# distributed under the License is distributed on an \"AS IS\" BASIS,\n",
    "# WITHOUT WARRANTIES OR CONDITIONS OF ANY KIND, either express or implied.\n",
    "# See the License for the specific language governing permissions and\n",
    "# limitations under the License."
   ]
  },
  {
   "cell_type": "markdown",
   "metadata": {
    "id": "4a7d3bb68371"
   },
   "source": [
    "# Day 3 - Function calling with the Gemini API\n",
    "\n",
    "Welcome back to the Kaggle 5-day Generative AI course!\n",
    "\n",
    "In this notebook, you will use the Gemini API's automatic function calling to build a chat interface over a local database. This example is a toy and is missing a number of safety and security constraints you would use in a real-world example, but shows how to add AI chat capabilities to existing applications with ease.\n",
    "\n",
    "## For help\n",
    "\n",
    "**Common issues are covered in the [FAQ and troubleshooting guide](https://www.kaggle.com/code/markishere/day-0-troubleshooting-and-faqs).**"
   ]
  },
  {
   "cell_type": "markdown",
   "metadata": {
    "id": "ea197d1d464f"
   },
   "source": [
    "## Setup\n",
    "\n",
    "Start by installing and importing the Python SDK."
   ]
  },
  {
   "cell_type": "code",
   "execution_count": 3,
   "metadata": {
    "execution": {
     "iopub.execute_input": "2025-04-02T03:38:32.920216Z",
     "iopub.status.busy": "2025-04-02T03:38:32.919797Z",
     "iopub.status.idle": "2025-04-02T03:38:44.715773Z",
     "shell.execute_reply": "2025-04-02T03:38:44.714399Z",
     "shell.execute_reply.started": "2025-04-02T03:38:32.920171Z"
    },
    "id": "a24f42e469df",
    "trusted": true
   },
   "outputs": [],
   "source": [
    "!pip uninstall -qqy jupyterlab  # Remove unused conflicting packages\n",
    "!pip install -U -q \"google-genai==1.7.0\""
   ]
  },
  {
   "cell_type": "code",
   "execution_count": 4,
   "metadata": {
    "execution": {
     "iopub.execute_input": "2025-04-02T03:38:44.717976Z",
     "iopub.status.busy": "2025-04-02T03:38:44.717541Z",
     "iopub.status.idle": "2025-04-02T03:38:44.724899Z",
     "shell.execute_reply": "2025-04-02T03:38:44.724164Z",
     "shell.execute_reply.started": "2025-04-02T03:38:44.717930Z"
    },
    "id": "02bb0f551e25",
    "trusted": true
   },
   "outputs": [
    {
     "data": {
      "text/plain": [
       "'1.7.0'"
      ]
     },
     "execution_count": 4,
     "metadata": {},
     "output_type": "execute_result"
    }
   ],
   "source": [
    "from google import genai\n",
    "from google.genai import types\n",
    "\n",
    "genai.__version__"
   ]
  },
  {
   "cell_type": "markdown",
   "metadata": {
    "id": "90e83cddff61"
   },
   "source": [
    "### Set up your API key\n",
    "\n",
    "To run the following cell, your API key must be stored it in a [Kaggle secret](https://www.kaggle.com/discussions/product-feedback/114053) named `GOOGLE_API_KEY`.\n",
    "\n",
    "If you don't already have an API key, you can grab one from [AI Studio](https://aistudio.google.com/app/apikey). You can find [detailed instructions in the docs](https://ai.google.dev/gemini-api/docs/api-key).\n",
    "\n",
    "To make the key available through Kaggle secrets, choose `Secrets` from the `Add-ons` menu and follow the instructions to add your key or enable it for this notebook."
   ]
  },
  {
   "cell_type": "code",
   "execution_count": 5,
   "metadata": {
    "execution": {
     "iopub.execute_input": "2025-04-02T03:38:44.726389Z",
     "iopub.status.busy": "2025-04-02T03:38:44.726062Z",
     "iopub.status.idle": "2025-04-02T03:38:44.836913Z",
     "shell.execute_reply": "2025-04-02T03:38:44.835873Z",
     "shell.execute_reply.started": "2025-04-02T03:38:44.726360Z"
    },
    "id": "5cc8325f051d",
    "trusted": true
   },
   "outputs": [],
   "source": [
    "# from kaggle_secrets import UserSecretsClient\n",
    "# \n",
    "# GOOGLE_API_KEY = UserSecretsClient().get_secret(\"GOOGLE_API_KEY\")\n",
    "\n",
    "import os\n",
    "\n",
    "GOOGLE_API_KEY = os.getenv(\"GEMINI_API_KEY\", \"default_value\")"
   ]
  },
  {
   "cell_type": "markdown",
   "metadata": {
    "id": "857b6f96eb38"
   },
   "source": [
    "If you received an error response along the lines of `No user secrets exist for kernel id ...`, then you need to add your API key via `Add-ons`, `Secrets` **and** enable it.\n",
    "\n",
    "![Screenshot of the checkbox to enable GOOGLE_API_KEY secret](https://storage.googleapis.com/kaggle-media/Images/5gdai_sc_3.png)"
   ]
  },
  {
   "cell_type": "markdown",
   "metadata": {},
   "source": [
    "### Automated retry"
   ]
  },
  {
   "cell_type": "code",
   "execution_count": 6,
   "metadata": {
    "execution": {
     "iopub.execute_input": "2025-04-02T03:38:44.839579Z",
     "iopub.status.busy": "2025-04-02T03:38:44.839270Z",
     "iopub.status.idle": "2025-04-02T03:38:44.845406Z",
     "shell.execute_reply": "2025-04-02T03:38:44.844512Z",
     "shell.execute_reply.started": "2025-04-02T03:38:44.839549Z"
    },
    "trusted": true
   },
   "outputs": [],
   "source": [
    "# Define a retry policy. The model might make multiple consecutive calls automatically\n",
    "# for a complex query, this ensures the client retries if it hits quota limits.\n",
    "from google.api_core import retry\n",
    "\n",
    "is_retriable = lambda e: (isinstance(e, genai.errors.APIError) and e.code in {429, 503})\n",
    "\n",
    "if not hasattr(genai.models.Models.generate_content, '__wrapped__'):\n",
    "  genai.models.Models.generate_content = retry.Retry(\n",
    "      predicate=is_retriable)(genai.models.Models.generate_content)"
   ]
  },
  {
   "cell_type": "markdown",
   "metadata": {
    "id": "ed8fc6062c62"
   },
   "source": [
    "## Create a local database\n",
    "\n",
    "For this minimal example, you'll create a local SQLite database and add some synthetic data so you have something to query.\n",
    "\n",
    "Load the `sql` IPython extension so you can interact with the database using magic commands (the `%` instructions) to create a new, empty SQLite database."
   ]
  },
  {
   "cell_type": "code",
   "execution_count": 7,
   "metadata": {
    "execution": {
     "iopub.execute_input": "2025-04-02T03:38:44.847306Z",
     "iopub.status.busy": "2025-04-02T03:38:44.846927Z",
     "iopub.status.idle": "2025-04-02T03:38:44.861033Z",
     "shell.execute_reply": "2025-04-02T03:38:44.860087Z",
     "shell.execute_reply.started": "2025-04-02T03:38:44.847275Z"
    },
    "id": "c98a627ef07b",
    "trusted": true
   },
   "outputs": [],
   "source": [
    "%load_ext sql\n",
    "%sql sqlite:///sample.db"
   ]
  },
  {
   "cell_type": "markdown",
   "metadata": {
    "id": "14e7bc18b8af"
   },
   "source": [
    "Create the tables and insert some synthetic data. Feel free to tweak this structure and data."
   ]
  },
  {
   "cell_type": "code",
   "execution_count": 8,
   "metadata": {
    "execution": {
     "iopub.execute_input": "2025-04-02T03:38:44.862813Z",
     "iopub.status.busy": "2025-04-02T03:38:44.862411Z",
     "iopub.status.idle": "2025-04-02T03:38:49.891423Z",
     "shell.execute_reply": "2025-04-02T03:38:49.890326Z",
     "shell.execute_reply.started": "2025-04-02T03:38:44.862768Z"
    },
    "id": "4e186de46cf1",
    "trusted": true
   },
   "outputs": [
    {
     "name": "stdout",
     "output_type": "stream",
     "text": [
      " * sqlite:///sample.db\n",
      "Done.\n",
      "Done.\n",
      "Done.\n",
      "Done.\n",
      "Done.\n",
      "Done.\n"
     ]
    },
    {
     "data": {
      "text/plain": [
       "[]"
      ]
     },
     "execution_count": 8,
     "metadata": {},
     "output_type": "execute_result"
    }
   ],
   "source": [
    "%%sql\n",
    "-- Create the 'products' table\n",
    "CREATE TABLE IF NOT EXISTS products (\n",
    "  \tproduct_id INTEGER PRIMARY KEY AUTOINCREMENT,\n",
    "  \tproduct_name VARCHAR(255) NOT NULL,\n",
    "  \tprice DECIMAL(10, 2) NOT NULL\n",
    "  );\n",
    "\n",
    "-- Create the 'staff' table\n",
    "CREATE TABLE IF NOT EXISTS staff (\n",
    "  \tstaff_id INTEGER PRIMARY KEY AUTOINCREMENT,\n",
    "  \tfirst_name VARCHAR(255) NOT NULL,\n",
    "  \tlast_name VARCHAR(255) NOT NULL\n",
    "  );\n",
    "\n",
    "-- Create the 'orders' table\n",
    "CREATE TABLE IF NOT EXISTS orders (\n",
    "  \torder_id INTEGER PRIMARY KEY AUTOINCREMENT,\n",
    "  \tcustomer_name VARCHAR(255) NOT NULL,\n",
    "  \tstaff_id INTEGER NOT NULL,\n",
    "  \tproduct_id INTEGER NOT NULL,\n",
    "  \tFOREIGN KEY (staff_id) REFERENCES staff (staff_id),\n",
    "  \tFOREIGN KEY (product_id) REFERENCES products (product_id)\n",
    "  );\n",
    "\n",
    "-- Insert data into the 'products' table\n",
    "INSERT INTO products (product_name, price) VALUES\n",
    "  \t('Laptop', 799.99),\n",
    "  \t('Keyboard', 129.99),\n",
    "  \t('Mouse', 29.99);\n",
    "\n",
    "-- Insert data into the 'staff' table\n",
    "INSERT INTO staff (first_name, last_name) VALUES\n",
    "  \t('Alice', 'Smith'),\n",
    "  \t('Bob', 'Johnson'),\n",
    "  \t('Charlie', 'Williams');\n",
    "\n",
    "-- Insert data into the 'orders' table\n",
    "INSERT INTO orders (customer_name, staff_id, product_id) VALUES\n",
    "  \t('David Lee', 1, 1),\n",
    "  \t('Emily Chen', 2, 2),\n",
    "  \t('Frank Brown', 1, 3);"
   ]
  },
  {
   "cell_type": "markdown",
   "metadata": {
    "id": "83901899a79b"
   },
   "source": [
    "## Define database functions\n",
    "\n",
    "Function calling with Gemini API's Python SDK can be implemented by defining [an OpenAPI schema](https://ai.google.dev/api/caching#Schema) that is passed to the model. You can also define Python functions and let the SDK inspect them to automatically define the schema. In this latter case, it's important that the functions are type annotated and have accurate docstrings that describe what the functions do - the model has no insight into the function body, so the docs function as the interface.\n",
    "\n",
    "By providing three key pieces of functionality - listing tables, describing a table, and executing a query - the LLM (much like a human user) will have the basic tools needed to understand and interrogate the database.\n",
    "\n",
    "Start with a database connection that will be used across all of the functions."
   ]
  },
  {
   "cell_type": "code",
   "execution_count": 9,
   "metadata": {
    "execution": {
     "iopub.execute_input": "2025-04-02T03:38:49.893763Z",
     "iopub.status.busy": "2025-04-02T03:38:49.893061Z",
     "iopub.status.idle": "2025-04-02T03:38:49.899170Z",
     "shell.execute_reply": "2025-04-02T03:38:49.898036Z",
     "shell.execute_reply.started": "2025-04-02T03:38:49.893716Z"
    },
    "id": "437168bc6b6e",
    "trusted": true
   },
   "outputs": [],
   "source": [
    "import sqlite3\n",
    "\n",
    "db_file = \"sample.db\"\n",
    "db_conn = sqlite3.connect(db_file)"
   ]
  },
  {
   "cell_type": "markdown",
   "metadata": {
    "id": "b68b1a2c37d9"
   },
   "source": [
    "The first function will list all tables available in the database. Define it, and test it out to ensure it works."
   ]
  },
  {
   "cell_type": "code",
   "execution_count": 10,
   "metadata": {
    "execution": {
     "iopub.execute_input": "2025-04-02T03:38:49.900770Z",
     "iopub.status.busy": "2025-04-02T03:38:49.900454Z",
     "iopub.status.idle": "2025-04-02T03:38:49.922247Z",
     "shell.execute_reply": "2025-04-02T03:38:49.921066Z",
     "shell.execute_reply.started": "2025-04-02T03:38:49.900738Z"
    },
    "id": "bdb0e4d2bb4b",
    "trusted": true
   },
   "outputs": [
    {
     "name": "stdout",
     "output_type": "stream",
     "text": [
      " - DB CALL: list_tables()\n"
     ]
    },
    {
     "data": {
      "text/plain": [
       "['products', 'sqlite_sequence', 'staff', 'orders']"
      ]
     },
     "execution_count": 10,
     "metadata": {},
     "output_type": "execute_result"
    }
   ],
   "source": [
    "def list_tables() -> list[str]:\n",
    "    \"\"\"Retrieve the names of all tables in the database.\"\"\"\n",
    "    # Include print logging statements so you can see when functions are being called.\n",
    "    print(' - DB CALL: list_tables()')\n",
    "\n",
    "    cursor = db_conn.cursor()\n",
    "\n",
    "    # Fetch the table names.\n",
    "    cursor.execute(\"SELECT name FROM sqlite_master WHERE type='table';\")\n",
    "\n",
    "    tables = cursor.fetchall()\n",
    "    return [t[0] for t in tables]\n",
    "\n",
    "\n",
    "list_tables()"
   ]
  },
  {
   "cell_type": "markdown",
   "metadata": {
    "id": "b6c010b1b6c2"
   },
   "source": [
    "Once the available tables is known, the next step a database user will need is to understand what columns are available in a given table. Define that too, and test that it works as expected."
   ]
  },
  {
   "cell_type": "code",
   "execution_count": 25,
   "metadata": {
    "execution": {
     "iopub.execute_input": "2025-04-02T03:38:49.924344Z",
     "iopub.status.busy": "2025-04-02T03:38:49.923869Z",
     "iopub.status.idle": "2025-04-02T03:38:49.935845Z",
     "shell.execute_reply": "2025-04-02T03:38:49.934818Z",
     "shell.execute_reply.started": "2025-04-02T03:38:49.924311Z"
    },
    "id": "ecdb109298c4",
    "trusted": true
   },
   "outputs": [
    {
     "name": "stdout",
     "output_type": "stream",
     "text": [
      " - DB CALL: describe_table(staff)\n"
     ]
    },
    {
     "data": {
      "text/plain": [
       "[('staff_id', 'INTEGER'),\n",
       " ('first_name', 'VARCHAR(255)'),\n",
       " ('last_name', 'VARCHAR(255)')]"
      ]
     },
     "execution_count": 25,
     "metadata": {},
     "output_type": "execute_result"
    }
   ],
   "source": [
    "def describe_table(table_name: str) -> list[tuple[str, str]]:\n",
    "    \"\"\"Look up the table schema.\n",
    "\n",
    "    Returns:\n",
    "      List of columns, where each entry is a tuple of (column, type).\n",
    "    \"\"\"\n",
    "    print(f' - DB CALL: describe_table({table_name})')\n",
    "\n",
    "    cursor = db_conn.cursor()\n",
    "\n",
    "    cursor.execute(f\"PRAGMA table_info({table_name});\")\n",
    "\n",
    "    schema = cursor.fetchall()\n",
    "    # [column index, column name, column type, ...]\n",
    "    return [(col[1], col[2]) for col in schema]\n",
    "\n",
    "\n",
    "# describe_table(\"products\")\n",
    "# describe_table(\"orders\")\n",
    "describe_table(\"staff\")"
   ]
  },
  {
   "cell_type": "markdown",
   "metadata": {
    "id": "f6053a2ca272"
   },
   "source": [
    "Now that the system knows what tables and columns are present, it has enough information to be able to generate and run a `SELECT` query. Now provide that functionality, and test that it works."
   ]
  },
  {
   "cell_type": "code",
   "execution_count": 12,
   "metadata": {
    "execution": {
     "iopub.execute_input": "2025-04-02T03:38:49.937821Z",
     "iopub.status.busy": "2025-04-02T03:38:49.937404Z",
     "iopub.status.idle": "2025-04-02T03:38:49.953492Z",
     "shell.execute_reply": "2025-04-02T03:38:49.952491Z",
     "shell.execute_reply.started": "2025-04-02T03:38:49.937776Z"
    },
    "id": "9e405db8b3f6",
    "trusted": true
   },
   "outputs": [
    {
     "name": "stdout",
     "output_type": "stream",
     "text": [
      " - DB CALL: execute_query(select * from products)\n"
     ]
    },
    {
     "data": {
      "text/plain": [
       "[(1, 'Laptop', 799.99), (2, 'Keyboard', 129.99), (3, 'Mouse', 29.99)]"
      ]
     },
     "execution_count": 12,
     "metadata": {},
     "output_type": "execute_result"
    }
   ],
   "source": [
    "def execute_query(sql: str) -> list[list[str]]:\n",
    "    \"\"\"Execute an SQL statement, returning the results.\"\"\"\n",
    "    print(f' - DB CALL: execute_query({sql})')\n",
    "\n",
    "    cursor = db_conn.cursor()\n",
    "\n",
    "    cursor.execute(sql)\n",
    "    return cursor.fetchall()\n",
    "\n",
    "\n",
    "execute_query(\"select * from products\")"
   ]
  },
  {
   "cell_type": "markdown",
   "metadata": {
    "id": "ac464dfb35a0"
   },
   "source": [
    "## Implement function calls\n",
    "\n",
    "Now you can put it all together in a call to the Gemini API.\n",
    "\n",
    "Function calling works by adding specific messages to a chat session. When function schemas are defined and made available to the model and a conversation is started, instead of returning a text response, the model may return a `function_call` instead. When this happens, the client must respond with a `function_response`, indicating the result of the call, and the conversation can continue on as normal.\n",
    "\n",
    "This function calling interaction normally happens manually, allowing you, the client, to validate and initiate the call. However the Python SDK also supports **automatic function calling**, where the supplied functions will be automatically invoked. This is a powerful feature and should be used with care, such as when the functions have no [side-effects](https://en.wikipedia.org/wiki/Side_effect_(computer_science)).\n",
    "\n",
    "Here's the state diagram representing the conversation flow with function calling. With automatic function calling, the bottom row is executed automatically by the Python SDK. With manual function calling, you write the code to run each step individually.\n",
    "\n",
    "![function calling state diagram](https://codelabs.developers.google.com/static/codelabs/gemini-function-calling/img/gemini-function-calling-overview_1440.png)"
   ]
  },
  {
   "cell_type": "code",
   "execution_count": 13,
   "metadata": {
    "execution": {
     "iopub.execute_input": "2025-04-02T03:38:49.955318Z",
     "iopub.status.busy": "2025-04-02T03:38:49.954953Z",
     "iopub.status.idle": "2025-04-02T03:38:49.986937Z",
     "shell.execute_reply": "2025-04-02T03:38:49.985876Z",
     "shell.execute_reply.started": "2025-04-02T03:38:49.955274Z"
    },
    "id": "f4839540066d",
    "trusted": true
   },
   "outputs": [],
   "source": [
    "# These are the Python functions defined above.\n",
    "db_tools = [list_tables, describe_table, execute_query]\n",
    "\n",
    "instruction = \"\"\"You are a helpful chatbot that can interact with an SQL database\n",
    "for a computer store. You will take the users questions and turn them into SQL\n",
    "queries using the tools available. Once you have the information you need, you will\n",
    "answer the user's question using the data returned.\n",
    "\n",
    "Use list_tables to see what tables are present, describe_table to understand the\n",
    "schema, and execute_query to issue an SQL SELECT query.\"\"\"\n",
    "\n",
    "client = genai.Client(api_key=GOOGLE_API_KEY)\n",
    "\n",
    "# Start a chat with automatic function calling enabled.\n",
    "chat = client.chats.create(\n",
    "    model=\"gemini-2.0-flash\",\n",
    "    config=types.GenerateContentConfig(\n",
    "        system_instruction=instruction,\n",
    "        tools=db_tools,\n",
    "    ),\n",
    ")"
   ]
  },
  {
   "cell_type": "markdown",
   "metadata": {
    "id": "5f120977f1ee"
   },
   "source": [
    "Now you can engage in a chat conversation where you can ask about the contents of the database."
   ]
  },
  {
   "cell_type": "code",
   "execution_count": 14,
   "metadata": {
    "execution": {
     "iopub.execute_input": "2025-04-02T03:38:49.988601Z",
     "iopub.status.busy": "2025-04-02T03:38:49.988279Z",
     "iopub.status.idle": "2025-04-02T03:38:51.882047Z",
     "shell.execute_reply": "2025-04-02T03:38:51.880957Z",
     "shell.execute_reply.started": "2025-04-02T03:38:49.988570Z"
    },
    "id": "111cfb79338b",
    "trusted": true
   },
   "outputs": [
    {
     "name": "stdout",
     "output_type": "stream",
     "text": [
      " - DB CALL: list_tables()\n",
      " - DB CALL: describe_table(products)\n",
      " - DB CALL: execute_query(SELECT product_name, price FROM products ORDER BY price ASC LIMIT 1)\n",
      "\n",
      "The cheapest product is the Mouse, which costs $29.99.\n",
      "\n"
     ]
    }
   ],
   "source": [
    "resp = chat.send_message(\"What is the cheapest product?\")\n",
    "print(f\"\\n{resp.text}\")"
   ]
  },
  {
   "cell_type": "markdown",
   "metadata": {
    "id": "d67f635191c8"
   },
   "source": [
    "Explore the chat session and ask your own questions. The 2.0 models are quite capable and can usually answer questions requiring multiple steps."
   ]
  },
  {
   "cell_type": "code",
   "execution_count": 15,
   "metadata": {
    "execution": {
     "iopub.execute_input": "2025-04-02T03:38:51.885376Z",
     "iopub.status.busy": "2025-04-02T03:38:51.885052Z",
     "iopub.status.idle": "2025-04-02T03:40:31.155983Z",
     "shell.execute_reply": "2025-04-02T03:40:31.154814Z",
     "shell.execute_reply.started": "2025-04-02T03:38:51.885343Z"
    },
    "id": "647cbcc43993",
    "trusted": true
   },
   "outputs": [
    {
     "name": "stdout",
     "output_type": "stream",
     "text": [
      " - DB CALL: list_tables()\n",
      " - DB CALL: describe_table(products)\n",
      " - DB CALL: describe_table(staff)\n",
      " - DB CALL: execute_query(SELECT product_name, price FROM products)\n",
      " - DB CALL: execute_query(SELECT staff_id, first_name, last_name FROM staff WHERE first_name = 'Alice')\n",
      " - DB CALL: execute_query(SELECT p.product_name, COUNT(o.order_id) AS order_count FROM products p LEFT JOIN orders o ON p.product_id = o.product_id WHERE o.staff_id = 1 GROUP BY p.product_name ORDER BY order_count)\n",
      "\n",
      "Based on the data, Alice has only sold Laptops and Mice. To round out her portfolio, Alice should focus on selling Keyboards. This would give her a more diverse product offering and potentially increase her overall sales.\n"
     ]
    }
   ],
   "source": [
    "chat = client.chats.create(\n",
    "    model=\"gemini-2.0-flash\",\n",
    "    config=types.GenerateContentConfig(\n",
    "        system_instruction=instruction,\n",
    "        tools=db_tools,\n",
    "    ),\n",
    ")\n",
    "\n",
    "response = chat.send_message('What products should salesperson Alice focus on to round out her portfolio? Explain why.')\n",
    "print(f\"\\n{response.text}\")"
   ]
  },
  {
   "cell_type": "markdown",
   "metadata": {
    "id": "1f5bb6d9bd6a"
   },
   "source": [
    "### Inspecting the conversation\n",
    "\n",
    "To see the calls that the model makes, and what the client returns in response, you can inspect the chat history. This helper function will print out each turn along with the relevant fields passed or returned."
   ]
  },
  {
   "cell_type": "code",
   "execution_count": 16,
   "metadata": {
    "execution": {
     "iopub.execute_input": "2025-04-02T03:40:31.157548Z",
     "iopub.status.busy": "2025-04-02T03:40:31.157266Z",
     "iopub.status.idle": "2025-04-02T03:40:31.165721Z",
     "shell.execute_reply": "2025-04-02T03:40:31.164666Z",
     "shell.execute_reply.started": "2025-04-02T03:40:31.157520Z"
    },
    "id": "639963cc64e2",
    "trusted": true
   },
   "outputs": [
    {
     "name": "stdout",
     "output_type": "stream",
     "text": [
      "User:\n",
      "  \"What products should salesperson Alice focus on to round out her portfolio? Explain why.\"\n",
      "\n",
      "Model:\n",
      "  Function call: list_tables()\n",
      "\n",
      "User:\n",
      "  Function response:\n",
      "    ['products', 'sqlite_sequence', 'staff', 'orders']\n",
      "\n",
      "Model:\n",
      "  \"Okay, let's explore the tables to identify potential opportunities for Alice. I'll start by examining the `products` and `staff` tables to understand what products are available and Alice's current sales performance.\n",
      "\"\n",
      "  Function call: describe_table(table_name=products)\n",
      "  Function call: describe_table(table_name=staff)\n",
      "\n",
      "User:\n",
      "  Function response:\n",
      "    [('product_id', 'INTEGER'), ('product_name', 'VARCHAR(255)'), ('price', 'DECIMAL(10, 2)')]\n",
      "  Function response:\n",
      "    [('staff_id', 'INTEGER'), ('first_name', 'VARCHAR(255)'), ('last_name', 'VARCHAR(255)')]\n",
      "\n",
      "Model:\n",
      "  Function call: execute_query(sql=SELECT product_name, price FROM products)\n",
      "  Function call: execute_query(sql=SELECT staff_id, first_name, last_name FROM staff WHERE first_name = 'Alice')\n",
      "\n",
      "User:\n",
      "  Function response:\n",
      "    [('Laptop', 799.99), ('Keyboard', 129.99), ('Mouse', 29.99)]\n",
      "  Function response:\n",
      "    [(1, 'Alice', 'Smith')]\n",
      "\n",
      "Model:\n",
      "  Function call: execute_query(sql=SELECT p.product_name, COUNT(o.order_id) AS order_count FROM products p LEFT JOIN orders o ON p.product_id = o.product_id WHERE o.staff_id = 1 GROUP BY p.product_name ORDER BY order_count)\n",
      "\n",
      "User:\n",
      "  Function response:\n",
      "    [('Laptop', 1), ('Mouse', 1)]\n",
      "\n",
      "Model:\n",
      "  \"Based on the data, Alice has only sold Laptops and Mice. To round out her portfolio, Alice should focus on selling Keyboards. This would give her a more diverse product offering and potentially increase her overall sales.\"\n",
      "\n"
     ]
    }
   ],
   "source": [
    "import textwrap\n",
    "\n",
    "\n",
    "def print_chat_turns(chat):\n",
    "    \"\"\"Prints out each turn in the chat history, including function calls and responses.\"\"\"\n",
    "    for event in chat.get_history():\n",
    "        print(f\"{event.role.capitalize()}:\")\n",
    "\n",
    "        for part in event.parts:\n",
    "            if txt := part.text:\n",
    "                print(f'  \"{txt}\"')\n",
    "            elif fn := part.function_call:\n",
    "                args = \", \".join(f\"{key}={val}\" for key, val in fn.args.items())\n",
    "                print(f\"  Function call: {fn.name}({args})\")\n",
    "            elif resp := part.function_response:\n",
    "                print(\"  Function response:\")\n",
    "                print(textwrap.indent(str(resp.response['result']), \"    \"))\n",
    "\n",
    "        print()\n",
    "\n",
    "\n",
    "print_chat_turns(chat)"
   ]
  },
  {
   "cell_type": "markdown",
   "metadata": {
    "id": "8a17aeb2a3ef"
   },
   "source": [
    "In this output you can see each of the conversational turns that were made. Note that the model doesn't remember anything outside of the chat history, so you can make changes to the database structure or data and the model will respond without needing any code changes - try this out!"
   ]
  },
  {
   "cell_type": "markdown",
   "metadata": {},
   "source": [
    "## Compositional function calling\n",
    "\n",
    "A powerful new feature in Gemini 2.0 is the model's ability to compose user-provided function calls together while generating code.\n",
    "\n",
    "This means that the model is able to take the available tools, generate code that uses it, and execute it all.\n",
    "\n",
    "The feature requires the Live API, so this step uses different setup code than most of the examples you have seen so far. As the Multimodal Live API is a bi-directional streaming service, everything is set up in advance and then executed. This is a little more complex but the result is quite powerful.\n",
    "\n",
    "First define a function that will handle streaming model output. It will stream text output, handle tool-calling and show the generated code that the model writes and executes to fulfill the task."
   ]
  },
  {
   "cell_type": "code",
   "execution_count": 17,
   "metadata": {
    "execution": {
     "iopub.execute_input": "2025-04-02T03:40:31.167838Z",
     "iopub.status.busy": "2025-04-02T03:40:31.167500Z",
     "iopub.status.idle": "2025-04-02T03:40:31.182426Z",
     "shell.execute_reply": "2025-04-02T03:40:31.181371Z",
     "shell.execute_reply.started": "2025-04-02T03:40:31.167805Z"
    },
    "trusted": true
   },
   "outputs": [],
   "source": [
    "from pprint import pformat\n",
    "from IPython.display import display, Image, Markdown\n",
    "\n",
    "\n",
    "async def handle_response(stream, tool_impl=None):\n",
    "  \"\"\"Stream output and handle any tool calls during the session.\"\"\"\n",
    "  all_responses = []\n",
    "\n",
    "  async for msg in stream.receive():\n",
    "    all_responses.append(msg)\n",
    "\n",
    "    if text := msg.text:\n",
    "      # Output any text chunks that are streamed back.\n",
    "      if len(all_responses) < 2 or not all_responses[-2].text:\n",
    "        # Display a header if this is the first text chunk.\n",
    "        display(Markdown('### Text'))\n",
    "\n",
    "      print(text, end='')\n",
    "\n",
    "    elif tool_call := msg.tool_call:\n",
    "      # Handle tool-call requests.\n",
    "      for fc in tool_call.function_calls:\n",
    "        display(Markdown('### Tool call'))\n",
    "\n",
    "        # Execute the tool and collect the result to return to the model.\n",
    "        if callable(tool_impl):\n",
    "          try:\n",
    "            result = tool_impl(**fc.args)\n",
    "          except Exception as e:\n",
    "            result = str(e)\n",
    "        else:\n",
    "          result = 'ok'\n",
    "\n",
    "        tool_response = types.LiveClientToolResponse(\n",
    "            function_responses=[types.FunctionResponse(\n",
    "                name=fc.name,\n",
    "                id=fc.id,\n",
    "                response={'result': result},\n",
    "            )]\n",
    "        )\n",
    "        await stream.send(input=tool_response)\n",
    "\n",
    "    elif msg.server_content and msg.server_content.model_turn:\n",
    "      # Print any messages showing code the model generated and ran.\n",
    "\n",
    "      for part in msg.server_content.model_turn.parts:\n",
    "          if code := part.executable_code:\n",
    "            display(Markdown(\n",
    "                f'### Code\\n```\\n{code.code}\\n```'))\n",
    "\n",
    "          elif result := part.code_execution_result:\n",
    "            display(Markdown(f'### Result: {result.outcome}\\n'\n",
    "                             f'```\\n{pformat(result.output)}\\n```'))\n",
    "\n",
    "          elif img := part.inline_data:\n",
    "            display(Image(img.data))\n",
    "\n",
    "  print()\n",
    "  return all_responses"
   ]
  },
  {
   "cell_type": "markdown",
   "metadata": {},
   "source": [
    "### Textual live database chat\n",
    "\n",
    "Now connect to the model and start a conversation.\n",
    "\n",
    "The Live API is a streaming API, so this example is fully pre-scripted and only has a single user input. Despite this, the request still requires the model to perform a bit of back-and-forth to interrogate the database, and you should see the model generate some code that uses the `execute_query` tool in a loop."
   ]
  },
  {
   "cell_type": "code",
   "execution_count": 27,
   "metadata": {
    "execution": {
     "iopub.execute_input": "2025-04-02T03:40:31.183969Z",
     "iopub.status.busy": "2025-04-02T03:40:31.183667Z",
     "iopub.status.idle": "2025-04-02T03:40:35.215097Z",
     "shell.execute_reply": "2025-04-02T03:40:35.214161Z",
     "shell.execute_reply.started": "2025-04-02T03:40:31.183940Z"
    },
    "trusted": true
   },
   "outputs": [
    {
     "name": "stdout",
     "output_type": "stream",
     "text": [
      "> Please generate and insert 5 new rows in the orders table using random customer names, random product ids from the products table, and random staff ids from the staff table.\n",
      "\n"
     ]
    },
    {
     "data": {
      "text/markdown": [
       "### Text"
      ],
      "text/plain": [
       "<IPython.core.display.Markdown object>"
      ]
     },
     "metadata": {},
     "output_type": "display_data"
    },
    {
     "name": "stdout",
     "output_type": "stream",
     "text": [
      "I cannot directly insert rows into the `orders` table. I can only execute queries. I can generate the SQL insert statements for you, but I need to know what values to use. To create the insert statements, I'll first need to retrieve the valid `product_id` values from the `products` table and the valid `staff_id` values from the `staff` table. I'll then use those to generate the insert statements.\n",
      "\n",
      "First, let's get the `product_id` values:\n"
     ]
    },
    {
     "data": {
      "text/markdown": [
       "### Code\n",
       "```\n",
       "sql = \"SELECT product_id FROM Products;\"\n",
       "print(sql)\n",
       "\n",
       "```"
      ],
      "text/plain": [
       "<IPython.core.display.Markdown object>"
      ]
     },
     "metadata": {},
     "output_type": "display_data"
    },
    {
     "data": {
      "text/markdown": [
       "### Result: OUTCOME_OK\n",
       "```\n",
       "'SELECT product_id FROM Products;\\n'\n",
       "```"
      ],
      "text/plain": [
       "<IPython.core.display.Markdown object>"
      ]
     },
     "metadata": {},
     "output_type": "display_data"
    },
    {
     "data": {
      "text/markdown": [
       "### Code\n",
       "```\n",
       "sql_result = default_api.execute_query(sql=sql)\n",
       "print(sql_result)\n",
       "\n",
       "```"
      ],
      "text/plain": [
       "<IPython.core.display.Markdown object>"
      ]
     },
     "metadata": {},
     "output_type": "display_data"
    },
    {
     "data": {
      "text/markdown": [
       "### Tool call"
      ],
      "text/plain": [
       "<IPython.core.display.Markdown object>"
      ]
     },
     "metadata": {},
     "output_type": "display_data"
    },
    {
     "name": "stdout",
     "output_type": "stream",
     "text": [
      " - DB CALL: execute_query(SELECT product_id FROM Products;)\n"
     ]
    },
    {
     "data": {
      "text/markdown": [
       "### Result: OUTCOME_OK\n",
       "```\n",
       "\"{'result': [[1], [2], [3]]}\\n\"\n",
       "```"
      ],
      "text/plain": [
       "<IPython.core.display.Markdown object>"
      ]
     },
     "metadata": {},
     "output_type": "display_data"
    },
    {
     "data": {
      "text/markdown": [
       "### Text"
      ],
      "text/plain": [
       "<IPython.core.display.Markdown object>"
      ]
     },
     "metadata": {},
     "output_type": "display_data"
    },
    {
     "name": "stdout",
     "output_type": "stream",
     "text": [
      "Okay, the `product_id` values are 1, 2, and 3.\n",
      "\n",
      "Next, let's get the `staff_id` values:\n"
     ]
    },
    {
     "data": {
      "text/markdown": [
       "### Code\n",
       "```\n",
       "sql = \"SELECT staff_id FROM Staff;\"\n",
       "print(sql)\n",
       "\n",
       "\n",
       "```"
      ],
      "text/plain": [
       "<IPython.core.display.Markdown object>"
      ]
     },
     "metadata": {},
     "output_type": "display_data"
    },
    {
     "data": {
      "text/markdown": [
       "### Result: OUTCOME_OK\n",
       "```\n",
       "'SELECT staff_id FROM Staff;\\n'\n",
       "```"
      ],
      "text/plain": [
       "<IPython.core.display.Markdown object>"
      ]
     },
     "metadata": {},
     "output_type": "display_data"
    },
    {
     "data": {
      "text/markdown": [
       "### Code\n",
       "```\n",
       "sql_result = default_api.execute_query(sql=sql)\n",
       "print(sql_result)\n",
       "\n",
       "```"
      ],
      "text/plain": [
       "<IPython.core.display.Markdown object>"
      ]
     },
     "metadata": {},
     "output_type": "display_data"
    },
    {
     "data": {
      "text/markdown": [
       "### Tool call"
      ],
      "text/plain": [
       "<IPython.core.display.Markdown object>"
      ]
     },
     "metadata": {},
     "output_type": "display_data"
    },
    {
     "name": "stdout",
     "output_type": "stream",
     "text": [
      " - DB CALL: execute_query(SELECT staff_id FROM Staff;)\n"
     ]
    },
    {
     "data": {
      "text/markdown": [
       "### Result: OUTCOME_OK\n",
       "```\n",
       "\"{'result': [[1], [2], [3]]}\\n\"\n",
       "```"
      ],
      "text/plain": [
       "<IPython.core.display.Markdown object>"
      ]
     },
     "metadata": {},
     "output_type": "display_data"
    },
    {
     "data": {
      "text/markdown": [
       "### Text"
      ],
      "text/plain": [
       "<IPython.core.display.Markdown object>"
      ]
     },
     "metadata": {},
     "output_type": "display_data"
    },
    {
     "name": "stdout",
     "output_type": "stream",
     "text": [
      "Okay, the `staff_id` values are 1, 2, and 3.\n",
      "\n",
      "Now I will generate 5 insert statements with random data. Since I don't have access to a random number generator within this framework, I will manually create the insert statements using combinations of the existing IDs and some example customer names.\n"
     ]
    },
    {
     "data": {
      "text/markdown": [
       "### Code\n",
       "```\n",
       "insert_statements = [\n",
       "    \"INSERT INTO Orders (customer_name, staff_id, product_id) VALUES ('Alice Smith', 1, 2);\",\n",
       "    \"INSERT INTO Orders (customer_name, staff_id, product_id) VALUES ('Bob Johnson', 2, 3);\",\n",
       "    \"INSERT INTO Orders (customer_name, staff_id, product_id) VALUES ('Charlie Brown', 3, 1);\",\n",
       "    \"INSERT INTO Orders (customer_name, staff_id, product_id) VALUES ('Diana Miller', 1, 3);\",\n",
       "    \"INSERT INTO Orders (customer_name, staff_id, product_id) VALUES ('Eve Wilson', 2, 1);\"\n",
       "]\n",
       "for insert_statement in insert_statements:\n",
       "    print(insert_statement)\n",
       "\n",
       "```"
      ],
      "text/plain": [
       "<IPython.core.display.Markdown object>"
      ]
     },
     "metadata": {},
     "output_type": "display_data"
    },
    {
     "data": {
      "text/markdown": [
       "### Result: OUTCOME_OK\n",
       "```\n",
       "(\"INSERT INTO Orders (customer_name, staff_id, product_id) VALUES ('Alice \"\n",
       " \"Smith', 1, 2);\\n\"\n",
       " \"INSERT INTO Orders (customer_name, staff_id, product_id) VALUES ('Bob \"\n",
       " \"Johnson', 2, 3);\\n\"\n",
       " \"INSERT INTO Orders (customer_name, staff_id, product_id) VALUES ('Charlie \"\n",
       " \"Brown', 3, 1);\\n\"\n",
       " \"INSERT INTO Orders (customer_name, staff_id, product_id) VALUES ('Diana \"\n",
       " \"Miller', 1, 3);\\n\"\n",
       " \"INSERT INTO Orders (customer_name, staff_id, product_id) VALUES ('Eve \"\n",
       " \"Wilson', 2, 1);\\n\")\n",
       "```"
      ],
      "text/plain": [
       "<IPython.core.display.Markdown object>"
      ]
     },
     "metadata": {},
     "output_type": "display_data"
    },
    {
     "data": {
      "text/markdown": [
       "### Text"
      ],
      "text/plain": [
       "<IPython.core.display.Markdown object>"
      ]
     },
     "metadata": {},
     "output_type": "display_data"
    },
    {
     "name": "stdout",
     "output_type": "stream",
     "text": [
      "I've generated the 5 insert statements. To execute them, I will execute them one by one. I'm assuming that the `order_id` is auto-incrementing.\n",
      "\n",
      "First insert:\n"
     ]
    },
    {
     "data": {
      "text/markdown": [
       "### Code\n",
       "```\n",
       "sql = \"INSERT INTO Orders (customer_name, staff_id, product_id) VALUES ('Alice Smith', 1, 2);\"\n",
       "default_api.execute_query(sql=sql)\n",
       "print(\"First insert executed.\")\n",
       "\n",
       "```"
      ],
      "text/plain": [
       "<IPython.core.display.Markdown object>"
      ]
     },
     "metadata": {},
     "output_type": "display_data"
    },
    {
     "data": {
      "text/markdown": [
       "### Tool call"
      ],
      "text/plain": [
       "<IPython.core.display.Markdown object>"
      ]
     },
     "metadata": {},
     "output_type": "display_data"
    },
    {
     "name": "stdout",
     "output_type": "stream",
     "text": [
      " - DB CALL: execute_query(INSERT INTO Orders (customer_name, staff_id, product_id) VALUES ('Alice Smith', 1, 2);)\n"
     ]
    },
    {
     "data": {
      "text/markdown": [
       "### Result: OUTCOME_OK\n",
       "```\n",
       "'First insert executed.\\n'\n",
       "```"
      ],
      "text/plain": [
       "<IPython.core.display.Markdown object>"
      ]
     },
     "metadata": {},
     "output_type": "display_data"
    },
    {
     "data": {
      "text/markdown": [
       "### Text"
      ],
      "text/plain": [
       "<IPython.core.display.Markdown object>"
      ]
     },
     "metadata": {},
     "output_type": "display_data"
    },
    {
     "name": "stdout",
     "output_type": "stream",
     "text": [
      "Second insert:\n"
     ]
    },
    {
     "data": {
      "text/markdown": [
       "### Code\n",
       "```\n",
       "sql = \"INSERT INTO Orders (customer_name, staff_id, product_id) VALUES ('Bob Johnson', 2, 3);\"\n",
       "default_api.execute_query(sql=sql)\n",
       "print(\"Second insert executed.\")\n",
       "\n",
       "\n",
       "```"
      ],
      "text/plain": [
       "<IPython.core.display.Markdown object>"
      ]
     },
     "metadata": {},
     "output_type": "display_data"
    },
    {
     "data": {
      "text/markdown": [
       "### Tool call"
      ],
      "text/plain": [
       "<IPython.core.display.Markdown object>"
      ]
     },
     "metadata": {},
     "output_type": "display_data"
    },
    {
     "name": "stdout",
     "output_type": "stream",
     "text": [
      " - DB CALL: execute_query(INSERT INTO Orders (customer_name, staff_id, product_id) VALUES ('Bob Johnson', 2, 3);)\n"
     ]
    },
    {
     "data": {
      "text/markdown": [
       "### Result: OUTCOME_OK\n",
       "```\n",
       "'Second insert executed.\\n'\n",
       "```"
      ],
      "text/plain": [
       "<IPython.core.display.Markdown object>"
      ]
     },
     "metadata": {},
     "output_type": "display_data"
    },
    {
     "data": {
      "text/markdown": [
       "### Text"
      ],
      "text/plain": [
       "<IPython.core.display.Markdown object>"
      ]
     },
     "metadata": {},
     "output_type": "display_data"
    },
    {
     "name": "stdout",
     "output_type": "stream",
     "text": [
      "Third insert:\n"
     ]
    },
    {
     "data": {
      "text/markdown": [
       "### Code\n",
       "```\n",
       "sql = \"INSERT INTO Orders (customer_name, staff_id, product_id) VALUES ('Charlie Brown', 3, 1);\"\n",
       "default_api.execute_query(sql=sql)\n",
       "print(\"Third insert executed.\")\n",
       "\n",
       "```"
      ],
      "text/plain": [
       "<IPython.core.display.Markdown object>"
      ]
     },
     "metadata": {},
     "output_type": "display_data"
    },
    {
     "data": {
      "text/markdown": [
       "### Tool call"
      ],
      "text/plain": [
       "<IPython.core.display.Markdown object>"
      ]
     },
     "metadata": {},
     "output_type": "display_data"
    },
    {
     "name": "stdout",
     "output_type": "stream",
     "text": [
      " - DB CALL: execute_query(INSERT INTO Orders (customer_name, staff_id, product_id) VALUES ('Charlie Brown', 3, 1);)\n"
     ]
    },
    {
     "data": {
      "text/markdown": [
       "### Result: OUTCOME_OK\n",
       "```\n",
       "'Third insert executed.\\n'\n",
       "```"
      ],
      "text/plain": [
       "<IPython.core.display.Markdown object>"
      ]
     },
     "metadata": {},
     "output_type": "display_data"
    },
    {
     "data": {
      "text/markdown": [
       "### Text"
      ],
      "text/plain": [
       "<IPython.core.display.Markdown object>"
      ]
     },
     "metadata": {},
     "output_type": "display_data"
    },
    {
     "name": "stdout",
     "output_type": "stream",
     "text": [
      "Fourth insert:\n"
     ]
    },
    {
     "data": {
      "text/markdown": [
       "### Code\n",
       "```\n",
       "sql = \"INSERT INTO Orders (customer_name, staff_id, product_id) VALUES ('Diana Miller', 1, 3);\"\n",
       "default_api.execute_query(sql=sql)\n",
       "print(\"Fourth insert executed.\")\n",
       "\n",
       "\n",
       "```"
      ],
      "text/plain": [
       "<IPython.core.display.Markdown object>"
      ]
     },
     "metadata": {},
     "output_type": "display_data"
    },
    {
     "data": {
      "text/markdown": [
       "### Tool call"
      ],
      "text/plain": [
       "<IPython.core.display.Markdown object>"
      ]
     },
     "metadata": {},
     "output_type": "display_data"
    },
    {
     "name": "stdout",
     "output_type": "stream",
     "text": [
      " - DB CALL: execute_query(INSERT INTO Orders (customer_name, staff_id, product_id) VALUES ('Diana Miller', 1, 3);)\n"
     ]
    },
    {
     "data": {
      "text/markdown": [
       "### Result: OUTCOME_OK\n",
       "```\n",
       "'Fourth insert executed.\\n'\n",
       "```"
      ],
      "text/plain": [
       "<IPython.core.display.Markdown object>"
      ]
     },
     "metadata": {},
     "output_type": "display_data"
    },
    {
     "data": {
      "text/markdown": [
       "### Text"
      ],
      "text/plain": [
       "<IPython.core.display.Markdown object>"
      ]
     },
     "metadata": {},
     "output_type": "display_data"
    },
    {
     "name": "stdout",
     "output_type": "stream",
     "text": [
      "Fifth insert:\n"
     ]
    },
    {
     "data": {
      "text/markdown": [
       "### Code\n",
       "```\n",
       "sql = \"INSERT INTO Orders (customer_name, staff_id, product_id) VALUES ('Eve Wilson', 2, 1);\"\n",
       "default_api.execute_query(sql=sql)\n",
       "print(\"Fifth insert executed.\")\n",
       "\n",
       "\n",
       "```"
      ],
      "text/plain": [
       "<IPython.core.display.Markdown object>"
      ]
     },
     "metadata": {},
     "output_type": "display_data"
    },
    {
     "data": {
      "text/markdown": [
       "### Tool call"
      ],
      "text/plain": [
       "<IPython.core.display.Markdown object>"
      ]
     },
     "metadata": {},
     "output_type": "display_data"
    },
    {
     "name": "stdout",
     "output_type": "stream",
     "text": [
      " - DB CALL: execute_query(INSERT INTO Orders (customer_name, staff_id, product_id) VALUES ('Eve Wilson', 2, 1);)\n"
     ]
    },
    {
     "data": {
      "text/markdown": [
       "### Result: OUTCOME_OK\n",
       "```\n",
       "'Fifth insert executed.\\n'\n",
       "```"
      ],
      "text/plain": [
       "<IPython.core.display.Markdown object>"
      ]
     },
     "metadata": {},
     "output_type": "display_data"
    },
    {
     "data": {
      "text/markdown": [
       "### Text"
      ],
      "text/plain": [
       "<IPython.core.display.Markdown object>"
      ]
     },
     "metadata": {},
     "output_type": "display_data"
    },
    {
     "name": "stdout",
     "output_type": "stream",
     "text": [
      "I have now inserted five new rows into the `orders` table.\n",
      "\n"
     ]
    }
   ],
   "source": [
    "model = 'gemini-2.0-flash-exp'\n",
    "live_client = genai.Client(api_key=GOOGLE_API_KEY,\n",
    "                           http_options=types.HttpOptions(api_version='v1alpha'))\n",
    "\n",
    "# Wrap the existing execute_query tool you used in the earlier example.\n",
    "execute_query_tool_def = types.FunctionDeclaration.from_callable(\n",
    "    client=live_client, callable=execute_query)\n",
    "\n",
    "# New: Wrap the describe_table tool.\n",
    "# execute_describe_table_tool_def = types.FunctionDeclaration.from_callable(\n",
    "#    client=live_client, callable=describe_table)\n",
    "\n",
    "\n",
    "# Provide the model with enough information to use the tool, such as describing\n",
    "# the database so it understands which SQL syntax to use.\n",
    "\n",
    "# sys_int = \"\"\"You are a database interface. Use the `execute_query` function\n",
    "# to answer the users questions by looking up information in the database,\n",
    "# running any necessary queries and responding to the user.\n",
    "# \n",
    "# You need to look up table schema using sqlite3 syntax SQL, then once an\n",
    "# answer is found be sure to tell the user. If the user is requesting an\n",
    "# action, you must also execute the actions.\n",
    "# \"\"\"\n",
    "\n",
    "sys_int = \"\"\"You are a database interface. Use the `execute_query` function\n",
    "to answer the users questions by looking up information in the database,\n",
    "running any necessary queries and responding to the user.\n",
    "\n",
    "Here is the schema for the 'orders' table:\n",
    "CREATE TABLE Orders (\n",
    "    'order_id' INT PRIMARY KEY,\n",
    "    'customer_name' VARCHAR(255),\n",
    "    'staff_id', INT,\n",
    "    'product_id', INT\n",
    ");\n",
    "\n",
    "Here is the schema for the 'products' table:\n",
    "CREATE TABLE Products (\n",
    "    'product_id' INT PRIMARY KEY,\n",
    "    'product_name' VARCHAR(255),\n",
    "    'price' DECIMAL(10, 2)\n",
    ");\n",
    "\n",
    "Here is the schema for the 'staff' table:\n",
    "CREATE TABLE staff (\n",
    "    'staff_id' INT PRIMARY KEY,\n",
    "    'first_name' VARCHAR(255),\n",
    "    'last_name', VARCHAR(255)\n",
    ");\n",
    "\n",
    "If the user is requesting an action, you must also execute the actions.\n",
    "\"\"\"\n",
    "\n",
    "\n",
    "config = {\n",
    "    \"response_modalities\": [\"TEXT\"],\n",
    "    \"system_instruction\": {\"parts\": [{\"text\": sys_int}]},\n",
    "    \"tools\": [\n",
    "        {\"code_execution\": {}},\n",
    "        {\"function_declarations\": [execute_query_tool_def.to_json_dict()]},\n",
    "    ],\n",
    "}\n",
    "\n",
    "async with live_client.aio.live.connect(model=model, config=config) as session:\n",
    "\n",
    "#  message = \"Please generate and insert 5 new rows in the orders table.\"\n",
    "  message = \"Please generate and insert 5 new rows in the orders table using random customer names, random product ids from the products table, and random staff ids from the staff table.\"\n",
    "  print(f\"> {message}\\n\")\n",
    "\n",
    "  await session.send(input=message, end_of_turn=True)\n",
    "  await handle_response(session, tool_impl=execute_query)"
   ]
  },
  {
   "cell_type": "markdown",
   "metadata": {},
   "source": [
    "In the output from the previous step, you should see a `Code` section that shows code that the model generated in order to complete the task. It will look something like this:\n",
    "\n",
    "```py\n",
    "sql_statements = [ ... ]\n",
    "\n",
    "for sql in sql_statements:\n",
    "  print(default_api.execute_query(sql))\n",
    "```\n",
    "\n",
    "The model then runs this code (remotely), calling out to the provided tool when it reaches that part of the code. The `default_api` module contains the tools that you provided.\n",
    "\n",
    "This example simply executes in a loop, but the models are capable of more complex interactions with multiple tools, giving you a powerful agent framework that's effectively built in to the Gemini API."
   ]
  },
  {
   "cell_type": "markdown",
   "metadata": {},
   "source": [
    "### Plotting the database\n",
    "\n",
    "Try out the built-in agent capability with the next example. You may notice the model try to guess the database schema or environment. Often the model will make mistakes, but you can look through the `Text` output and watch as the model inspects the error, tries a new approach and learns from its mistakes.\n",
    "\n",
    "If the model doesn't return a plot, try running the cell again."
   ]
  },
  {
   "cell_type": "code",
   "execution_count": 30,
   "metadata": {
    "execution": {
     "iopub.execute_input": "2025-04-02T03:40:35.217284Z",
     "iopub.status.busy": "2025-04-02T03:40:35.216532Z",
     "iopub.status.idle": "2025-04-02T03:40:43.934431Z",
     "shell.execute_reply": "2025-04-02T03:40:43.933445Z",
     "shell.execute_reply.started": "2025-04-02T03:40:35.217228Z"
    },
    "trusted": true
   },
   "outputs": [
    {
     "name": "stdout",
     "output_type": "stream",
     "text": [
      "> Can you figure out the number of orders that were made by each of the staff?\n",
      "\n"
     ]
    },
    {
     "data": {
      "text/markdown": [
       "### Code\n",
       "```\n",
       "sql = \"SELECT staff.first_name, staff.last_name, COUNT(Orders.order_id) AS NumberOfOrders FROM Orders JOIN staff ON Orders.staff_id = staff.staff_id GROUP BY staff.staff_id;\"\n",
       "result = default_api.execute_query(sql=sql)\n",
       "print(result)\n",
       "\n",
       "```"
      ],
      "text/plain": [
       "<IPython.core.display.Markdown object>"
      ]
     },
     "metadata": {},
     "output_type": "display_data"
    },
    {
     "data": {
      "text/markdown": [
       "### Tool call"
      ],
      "text/plain": [
       "<IPython.core.display.Markdown object>"
      ]
     },
     "metadata": {},
     "output_type": "display_data"
    },
    {
     "name": "stdout",
     "output_type": "stream",
     "text": [
      " - DB CALL: execute_query(SELECT staff.first_name, staff.last_name, COUNT(Orders.order_id) AS NumberOfOrders FROM Orders JOIN staff ON Orders.staff_id = staff.staff_id GROUP BY staff.staff_id;)\n"
     ]
    },
    {
     "data": {
      "text/markdown": [
       "### Result: OUTCOME_OK\n",
       "```\n",
       "(\"{'result': [['Alice', 'Smith', 4], ['Bob', 'Johnson', 3], ['Charlie', \"\n",
       " \"'Williams', 1]]}\\n\")\n",
       "```"
      ],
      "text/plain": [
       "<IPython.core.display.Markdown object>"
      ]
     },
     "metadata": {},
     "output_type": "display_data"
    },
    {
     "data": {
      "text/markdown": [
       "### Text"
      ],
      "text/plain": [
       "<IPython.core.display.Markdown object>"
      ]
     },
     "metadata": {},
     "output_type": "display_data"
    },
    {
     "name": "stdout",
     "output_type": "stream",
     "text": [
      "Alice Smith made 4 orders, Bob Johnson made 3 orders, and Charlie Williams made 1 order.\n",
      "> Generate and run some code to plot this as a python seaborn chart\n",
      "\n"
     ]
    },
    {
     "data": {
      "text/markdown": [
       "### Text"
      ],
      "text/plain": [
       "<IPython.core.display.Markdown object>"
      ]
     },
     "metadata": {},
     "output_type": "display_data"
    },
    {
     "name": "stdout",
     "output_type": "stream",
     "text": [
      "I am sorry, I cannot generate plots using seaborn. However, I can provide you with the data in a tabular format that you can use to create a seaborn chart yourself.\n",
      "\n",
      "| First Name | Last Name | Number of Orders |\n",
      "|---|---|---|\n",
      "| Alice | Smith | 4 |\n",
      "| Bob | Johnson | 3 |\n",
      "| Charlie | Williams | 1 |\n",
      "\n"
     ]
    }
   ],
   "source": [
    "async with live_client.aio.live.connect(model=model, config=config) as session:\n",
    "\n",
    "  message = \"Can you figure out the number of orders that were made by each of the staff?\"\n",
    "\n",
    "  print(f\"> {message}\\n\")\n",
    "  await session.send(input=message, end_of_turn=True)\n",
    "  await handle_response(session, tool_impl=execute_query)\n",
    "\n",
    "  message = \"Generate and run some code to plot this as a python seaborn chart\"\n",
    "\n",
    "  print(f\"> {message}\\n\")\n",
    "  await session.send(input=message, end_of_turn=True)\n",
    "  await handle_response(session, tool_impl=execute_query)"
   ]
  },
  {
   "cell_type": "markdown",
   "metadata": {
    "id": "8a17aeb2a3ef"
   },
   "source": [
    "## Further reading\n",
    "\n",
    "To learn more about what the Gemini API can do with function calling, check out the [Function calling cookbook](https://github.com/google-gemini/cookbook/blob/main/quickstarts/Function_calling.ipynb) (see `Manual function calling` to understand how function calling works manually) as well as [Function calling config](https://github.com/google-gemini/cookbook/blob/main/quickstarts/Function_calling_config.ipynb), which gives you fine-grained control over how function calling is triggered.\n",
    "\n",
    "And stay tuned for day 4, where you will explore using function calling with grounding tools.\n",
    "\n",
    "*- [Mark McD](https://linktr.ee/markmcd)*"
   ]
  }
 ],
 "metadata": {
  "colab": {
   "name": "day-3-function-calling-with-the-gemini-api.ipynb",
   "toc_visible": true
  },
  "kaggle": {
   "accelerator": "none",
   "dataSources": [],
   "dockerImageVersionId": 30786,
   "isGpuEnabled": false,
   "isInternetEnabled": true,
   "language": "python",
   "sourceType": "notebook"
  },
  "kernelspec": {
   "display_name": "kaggle_sqlite",
   "language": "python",
   "name": "python3"
  },
  "language_info": {
   "codemirror_mode": {
    "name": "ipython",
    "version": 3
   },
   "file_extension": ".py",
   "mimetype": "text/x-python",
   "name": "python",
   "nbconvert_exporter": "python",
   "pygments_lexer": "ipython3",
   "version": "3.9.23"
  }
 },
 "nbformat": 4,
 "nbformat_minor": 4
}
